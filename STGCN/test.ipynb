{
 "cells": [
  {
   "cell_type": "code",
   "execution_count": 1,
   "metadata": {},
   "outputs": [
    {
     "name": "stderr",
     "output_type": "stream",
     "text": [
      "<frozen importlib._bootstrap>:241: RuntimeWarning: scipy._lib.messagestream.MessageStream size changed, may indicate binary incompatibility. Expected 56 from C header, got 64 from PyObject\n"
     ]
    }
   ],
   "source": [
    "import argparse\n",
    "import logging\n",
    "import math\n",
    "import os\n",
    "import pickle\n",
    "import random\n",
    "import time\n",
    "import logging\n",
    "from tqdm import tqdm\n",
    "\n",
    "import geopandas as gpd\n",
    "import matplotlib.pyplot as plt\n",
    "import numpy as np\n",
    "import pandas as pd\n",
    "from sklearn import preprocessing\n",
    "import torch\n",
    "import torch.nn as nn\n",
    "import torch.nn.functional as F\n",
    "from torch.autograd import Variable\n",
    "from torch.utils.data import DataLoader, TensorDataset\n",
    "\n",
    "from model.models import STGCNChebGraphConv, STGCNGraphConv\n",
    "from utils import calc_gso, calc_chebynet_gso, evaluate_metric, evaluate_model, EarlyStopping, set_env, data_transform"
   ]
  },
  {
   "cell_type": "code",
   "execution_count": 2,
   "metadata": {},
   "outputs": [
    {
     "data": {
      "image/png": "[encoded data removed]",
      "text/plain": [
       "<Figure size 640x480 with 1 Axes>"
      ]
     },
     "metadata": {},
     "output_type": "display_data"
    }
   ],
   "source": [
    "# Load data\n",
    "adj_mx = pd.read_csv('data/PeMSD7_W_228.csv', header=None)\n",
    "adj_mx = np.array(adj_mx)\n",
    "\n",
    "data = pd.read_csv('data/PeMSD7_V_228.csv', header=None)\n",
    "data = np.array(data)\n",
    "\n",
    "info = pd.read_csv('data/PeMSD7_M_Station_Info.csv', index_col=0)\n",
    "info = gpd.GeoDataFrame(info, geometry=gpd.points_from_xy(info.Longitude, info.Latitude))\n",
    "\n",
    "\n",
    "info.plot()\n",
    "plt.show()"
   ]
  },
  {
   "cell_type": "code",
   "execution_count": 3,
   "metadata": {},
   "outputs": [
    {
     "name": "stdout",
     "output_type": "stream",
     "text": [
      "Training configs: Namespace(enable_cuda=True, seed=42, n_his=12, n_pred=3, time_intvl=5, Kt=3, stblock_num=2, act_func='glu', Ks=3, graph_conv_type='cheb_graph_conv', gso_type='sym_norm_lap', enable_bias=True, droprate=0.5, lr=0.001, weight_decay_rate=0.0005, batch_size=32, epochs=1000, step_size=10, gamma=0.95, patience=30)\n"
     ]
    }
   ],
   "source": [
    "def get_parameters(args=None):\n",
    "    parser = argparse.ArgumentParser(description='STGCN')\n",
    "    parser.add_argument('--enable_cuda', type=bool, default=True, help='enable CUDA, default as True')\n",
    "    parser.add_argument('--seed', type=int, default=42, help='set the random seed for stabilizing experiment results')\n",
    "    parser.add_argument('--n_his', type=int, default=12, help='number of time intervals in the past')\n",
    "    parser.add_argument('--n_pred', type=int, default=3, help='the number of time interval for predcition, default as 3')\n",
    "    parser.add_argument('--time_intvl', type=int, default=5, help='time interval, default as 5')\n",
    "    parser.add_argument('--Kt', type=int, default=3, help='kernel size of temporal convolution')\n",
    "    parser.add_argument('--stblock_num', type=int, default=2, help='number of ST-Conv blocks')\n",
    "    parser.add_argument('--act_func', type=str, default='glu', choices=['glu', 'gtu'])\n",
    "    parser.add_argument('--Ks', type=int, default=3, choices=[3, 2], help='kernel size of spatial convolution')\n",
    "    parser.add_argument('--graph_conv_type', type=str, default='cheb_graph_conv', choices=['cheb_graph_conv', 'graph_conv'])\n",
    "    parser.add_argument('--gso_type', type=str, default='sym_norm_lap', choices=['sym_norm_lap', 'rw_norm_lap', 'sym_renorm_adj', 'rw_renorm_adj'])\n",
    "    parser.add_argument('--enable_bias', type=bool, default=True, help='default as True')\n",
    "    parser.add_argument('--droprate', type=float, default=0.5)\n",
    "    parser.add_argument('--lr', type=float, default=0.001, help='learning rate')\n",
    "    parser.add_argument('--weight_decay_rate', type=float, default=0.0005, help='weight decay (L2 penalty)')\n",
    "    parser.add_argument('--batch_size', type=int, default=32)\n",
    "    parser.add_argument('--epochs', type=int, default=1000, help='epochs, default as 1000')\n",
    "    parser.add_argument('--step_size', type=int, default=10)\n",
    "    parser.add_argument('--gamma', type=float, default=0.95)\n",
    "    parser.add_argument('--patience', type=int, default=30, help='early stopping patience')\n",
    "    if args is None:\n",
    "        args = parser.parse_args()\n",
    "    else:\n",
    "        args = parser.parse_args(args)\n",
    "\n",
    "    print('Training configs: {}'.format(args))\n",
    "\n",
    "    # For stable experiment results\n",
    "    set_env(args.seed)\n",
    "\n",
    "    # Running in Nvidia GPU (CUDA) or CPU\n",
    "    if args.enable_cuda and torch.cuda.is_available():\n",
    "        # Set available CUDA devices\n",
    "        # This option is crucial for multiple GPUs\n",
    "        # 'cuda' ≡ 'cuda:0'\n",
    "        device = torch.device('cuda')\n",
    "    else:\n",
    "        device = torch.device('cpu')\n",
    "    \n",
    "    Ko = args.n_his - (args.Kt - 1) * 2 * args.stblock_num #\n",
    "\n",
    "    # blocks: settings of channel size in st_conv_blocks and output layer,\n",
    "    # using the bottleneck design in st_conv_blocks\n",
    "    blocks = []\n",
    "    blocks.append([1])\n",
    "    for l in range(args.stblock_num):\n",
    "        blocks.append([64, 16, 64])\n",
    "    if Ko == 0:\n",
    "        blocks.append([128])\n",
    "    elif Ko > 0:\n",
    "        blocks.append([128, 128])\n",
    "    blocks.append([1])\n",
    "    \n",
    "    return args, device, blocks\n",
    "\n",
    "args, device, blocks = get_parameters(['--enable_cuda', 'True', '--seed', '42', '--n_his', '12', '--n_pred', '3', '--time_intvl', '5', '--Kt', '3', '--stblock_num', '2', '--act_func', 'glu', '--Ks', '3', '--graph_conv_type', 'cheb_graph_conv', '--gso_type', 'sym_norm_lap', '--enable_bias', 'True', '--droprate', '0.5', '--lr', '0.001', '--weight_decay_rate', '0.0005', '--batch_size', '32', '--epochs', '1000', '--step_size', '10', '--gamma', '0.95', '--patience', '30'])"
   ]
  },
  {
   "cell_type": "code",
   "execution_count": 5,
   "metadata": {},
   "outputs": [
    {
     "data": {
      "text/plain": [
       "<All keys matched successfully>"
      ]
     },
     "execution_count": 5,
     "metadata": {},
     "output_type": "execute_result"
    }
   ],
   "source": [
    "# Load data\n",
    "data_col = data.shape[0]\n",
    "val_and_test_rate = 0.15\n",
    "\n",
    "len_val = int(math.floor(data_col * val_and_test_rate))\n",
    "len_test = int(math.floor(data_col * val_and_test_rate))\n",
    "len_train = int(data_col - len_val - len_test)\n",
    "\n",
    "train, val, test = data[:len_train], data[len_train: len_train + len_val], data[-len_test:]\n",
    "scaler = preprocessing.StandardScaler() # Standardize features by removing the mean and scaling to unit variance\n",
    "train = scaler.fit_transform(train)\n",
    "val = scaler.fit_transform(val)\n",
    "test = scaler.fit_transform(test)\n",
    "\n",
    "x_train, y_train = data_transform(train, args.n_his, args.n_pred, device)\n",
    "x_val, y_val = data_transform(val, args.n_his, args.n_pred, device)\n",
    "x_test, y_test = data_transform(test, args.n_his, args.n_pred, device)\n",
    "\n",
    "train_data = TensorDataset(x_train, y_train)\n",
    "train_iter = DataLoader(dataset=train_data, batch_size=args.batch_size, shuffle=False)\n",
    "val_data = TensorDataset(x_val, y_val)\n",
    "val_iter = DataLoader(dataset=val_data, batch_size=args.batch_size, shuffle=False)\n",
    "test_data = TensorDataset(x_test, y_test)\n",
    "test_iter = DataLoader(dataset=test_data, batch_size=args.batch_size, shuffle=False)\n",
    "\n",
    "adj, n_vertex = adj_mx, adj_mx.shape[0]\n",
    "gso = calc_gso(adj, args.gso_type)\n",
    "\n",
    "if args.graph_conv_type == 'cheb_graph_conv':\n",
    "    gso = calc_chebynet_gso(gso)\n",
    "\n",
    "gso = gso.toarray()\n",
    "gso = gso.astype(dtype=np.float32)\n",
    "args.gso = torch.from_numpy(gso).to(device)\n",
    "\n",
    "# Load pytorch model : model.pth\n",
    "n_vertex = adj_mx.shape[0]\n",
    "gso = calc_gso(adj_mx, args.gso_type)\n",
    "\n",
    "# Load model\n",
    "model = STGCNChebGraphConv(args, blocks, n_vertex).to(device)\n",
    "model.load_state_dict(torch.load('model.pth'))"
   ]
  },
  {
   "cell_type": "code",
   "execution_count": 12,
   "metadata": {},
   "outputs": [
    {
     "data": {
      "text/plain": [
       "torch.Size([1, 1, 12, 228])"
      ]
     },
     "execution_count": 12,
     "metadata": {},
     "output_type": "execute_result"
    }
   ],
   "source": [
    "x.size() # [1, 1, 12, 228] : [batch_size, n_channel, n_his, n_vertex]"
   ]
  },
  {
   "cell_type": "code",
   "execution_count": 16,
   "metadata": {},
   "outputs": [
    {
     "name": "stdout",
     "output_type": "stream",
     "text": [
      "----------------------------------------------------------------\n",
      "        Layer (type)               Output Shape         Param #\n",
      "================================================================\n",
      "             Align-1          [-1, 64, 12, 228]               0\n",
      "      CausalConv2d-2         [-1, 128, 10, 228]             512\n",
      " TemporalConvLayer-3          [-1, 64, 10, 228]               0\n",
      "            Conv2d-4          [-1, 16, 10, 228]           1,040\n",
      "             Align-5          [-1, 16, 10, 228]               0\n",
      "     ChebGraphConv-6          [-1, 10, 228, 16]             784\n",
      "    GraphConvLayer-7          [-1, 16, 10, 228]               0\n",
      "              ReLU-8          [-1, 16, 10, 228]               0\n",
      "             Align-9          [-1, 64, 10, 228]               0\n",
      "     CausalConv2d-10          [-1, 128, 8, 228]           6,272\n",
      "TemporalConvLayer-11           [-1, 64, 8, 228]               0\n",
      "        LayerNorm-12           [-1, 8, 228, 64]          29,184\n",
      "          Dropout-13           [-1, 64, 8, 228]               0\n",
      "      STConvBlock-14           [-1, 64, 8, 228]               0\n",
      "            Align-15           [-1, 64, 8, 228]               0\n",
      "     CausalConv2d-16          [-1, 128, 6, 228]          24,704\n",
      "TemporalConvLayer-17           [-1, 64, 6, 228]               0\n",
      "           Conv2d-18           [-1, 16, 6, 228]           1,040\n",
      "            Align-19           [-1, 16, 6, 228]               0\n",
      "    ChebGraphConv-20           [-1, 6, 228, 16]             784\n",
      "   GraphConvLayer-21           [-1, 16, 6, 228]               0\n",
      "             ReLU-22           [-1, 16, 6, 228]               0\n",
      "            Align-23           [-1, 64, 6, 228]               0\n",
      "     CausalConv2d-24          [-1, 128, 4, 228]           6,272\n",
      "TemporalConvLayer-25           [-1, 64, 4, 228]               0\n",
      "        LayerNorm-26           [-1, 4, 228, 64]          29,184\n",
      "          Dropout-27           [-1, 64, 4, 228]               0\n",
      "      STConvBlock-28           [-1, 64, 4, 228]               0\n",
      "            Align-29          [-1, 128, 4, 228]               0\n",
      "     CausalConv2d-30          [-1, 256, 1, 228]          65,792\n",
      "TemporalConvLayer-31          [-1, 128, 1, 228]               0\n",
      "        LayerNorm-32          [-1, 1, 228, 128]          58,368\n",
      "           Linear-33          [-1, 1, 228, 128]          16,512\n",
      "             ReLU-34          [-1, 1, 228, 128]               0\n",
      "          Dropout-35          [-1, 1, 228, 128]               0\n",
      "           Linear-36            [-1, 1, 228, 1]             129\n",
      "      OutputBlock-37            [-1, 1, 1, 228]               0\n",
      "================================================================\n",
      "Total params: 240,577\n",
      "Trainable params: 240,577\n",
      "Non-trainable params: 0\n",
      "----------------------------------------------------------------\n",
      "Input size (MB): 0.01\n",
      "Forward/backward pass size (MB): 22.05\n",
      "Params size (MB): 0.92\n",
      "Estimated Total Size (MB): 22.97\n",
      "----------------------------------------------------------------\n"
     ]
    }
   ],
   "source": [
    "# Visualize model\n",
    "\n",
    "from torchsummary import summary\n",
    "\n",
    "x = test_iter.dataset.tensors[0][0].unsqueeze(0)\n",
    "\n",
    "summary(model, input_size=(x.size(1), x.size(2), x.size(3)))"
   ]
  },
  {
   "cell_type": "code",
   "execution_count": 56,
   "metadata": {},
   "outputs": [],
   "source": [
    "# Evaluation\n",
    "\n",
    "model.eval()\n",
    "\n",
    "\n",
    "\n",
    "# Evaluate model\n",
    "\n"
   ]
  }
 ],
 "metadata": {
  "kernelspec": {
   "display_name": "colab",
   "language": "python",
   "name": "python3"
  },
  "language_info": {
   "codemirror_mode": {
    "name": "ipython",
    "version": 3
   },
   "file_extension": ".py",
   "mimetype": "text/x-python",
   "name": "python",
   "nbconvert_exporter": "python",
   "pygments_lexer": "ipython3",
   "version": "3.10.12"
  }
 },
 "nbformat": 4,
 "nbformat_minor": 2
}
