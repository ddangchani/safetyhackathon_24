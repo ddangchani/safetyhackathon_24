{
 "cells": [
  {
   "cell_type": "code",
   "execution_count": 2,
   "metadata": {},
   "outputs": [],
   "source": [
    "import geopandas as gpd\n",
    "import pandas as pd\n",
    "import matplotlib.pyplot as plt\n",
    "from tqdm.notebook import tqdm"
   ]
  },
  {
   "cell_type": "code",
   "execution_count": 16,
   "metadata": {},
   "outputs": [
    {
     "name": "stderr",
     "output_type": "stream",
     "text": [
      "/Users/dangchan/miniforge3/envs/colab/lib/python3.10/site-packages/IPython/core/interactiveshell.py:3466: FutureWarning: The `op` parameter is deprecated and will be removed in a future release. Please use the `predicate` parameter instead.\n",
      "  if await self.run_code(code, result, async_=asy):\n"
     ]
    }
   ],
   "source": [
    "grid_roads = pd.read_pickle('data/grid_roads.pkl').reset_index(drop=True)\n",
    "selected_GU = ['강남구']\n",
    "selected_GU = ['서울특별시 ' + gu for gu in selected_GU]\n",
    "\n",
    "seoul = gpd.read_file('data/seoul_geo/seoul.shp').to_crs(epsg=5174)\n",
    "seoul_selected = seoul[seoul.SGG_NM.isin(selected_GU)]\n",
    "roads_selected = gpd.sjoin(grid_roads, seoul_selected, op='intersects')\n",
    "roads_selected = roads_selected.reset_index(drop=True)\n",
    "\n",
    "roads_selected.drop(columns=['index_right'], inplace=True)"
   ]
  },
  {
   "cell_type": "code",
   "execution_count": 9,
   "metadata": {},
   "outputs": [
    {
     "data": {
      "text/plain": [
       "<Axes: >"
      ]
     },
     "execution_count": 9,
     "metadata": {},
     "output_type": "execute_result"
    },
    {
     "data": {
      "image/png": "[encoded data removed]",
      "text/plain": [
       "<Figure size 640x480 with 1 Axes>"
      ]
     },
     "metadata": {},
     "output_type": "display_data"
    }
   ],
   "source": [
    "roads_selected.plot()"
   ]
  },
  {
   "cell_type": "code",
   "execution_count": 3,
   "metadata": {},
   "outputs": [],
   "source": [
    "# flood = gpd.read_file('data/flood/서울시_2022.shp').to_crs(epsg=5174)\n",
    "\n",
    "# flood.F_SAT_YMD = flood.F_SAT_YMD.str.replace('-','')\n",
    "# flood.F_SAT_YMD = flood.F_SAT_YMD.astype(int)\n",
    "# flood.F_END_YMD = flood.F_END_YMD.str.replace('-','')\n",
    "# flood.F_END_YMD = flood.F_END_YMD.astype(int)\n",
    "\n",
    "# # to datetime\n",
    "# flood['START'] = pd.to_datetime(flood['F_SAT_YMD'], format='%Y%m%d') + pd.to_timedelta(flood.F_SAT_TM.astype(int), unit='h')\n",
    "# flood['END'] = pd.to_datetime(flood['F_END_YMD'], format='%Y%m%d') + pd.to_timedelta(flood.F_END_TM.astype(int), unit='h')\n",
    "\n",
    "# flood = flood[['START', 'END', 'geometry']]\n",
    "\n",
    "# start_date = pd.to_datetime('2022-06-01')\n",
    "# end_date = pd.to_datetime('2023-01-01')\n",
    "# time_index = pd.date_range(start_date, end_date, freq='h')\n",
    "\n",
    "# hourly_df = pd.DataFrame(index=time_index)\n",
    "# # Initialize 'geometry' as a column of empty lists\n",
    "# hourly_df['geometry'] = [[] for _ in range(len(hourly_df))]\n",
    "\n",
    "# for _, row in tqdm(flood.iterrows(), total=flood.shape[0]):\n",
    "#     start_time = row['START']\n",
    "#     end_time = row['END']\n",
    "#     geometry = row['geometry']\n",
    "\n",
    "#     # Create a mask for the time index within the start and end times\n",
    "#     mask = (hourly_df.index >= start_time) & (hourly_df.index <= end_time)\n",
    "\n",
    "#     # Append the geometry to the lists in the 'geometry' column where the mask is True\n",
    "#     hourly_df.loc[mask, 'geometry'] = hourly_df.loc[mask, 'geometry'].apply(lambda x: x + [geometry])"
   ]
  },
  {
   "cell_type": "code",
   "execution_count": 4,
   "metadata": {},
   "outputs": [],
   "source": [
    "# # geometry list to unary union\n",
    "# from shapely.ops import unary_union\n",
    "\n",
    "# def to_unary_union(polygons):\n",
    "#     if len(polygons) == 0:\n",
    "#         return None\n",
    "#     elif len(polygons) == 1:\n",
    "#         return polygons[0]\n",
    "#     else:\n",
    "#         return unary_union(polygons)\n",
    "\n",
    "# hourly_df['geometry'] = hourly_df['geometry'].apply(to_unary_union)"
   ]
  },
  {
   "cell_type": "code",
   "execution_count": 5,
   "metadata": {},
   "outputs": [],
   "source": [
    "# hourly_df.to_pickle('data/hourly_flood.pkl')"
   ]
  },
  {
   "cell_type": "code",
   "execution_count": 17,
   "metadata": {},
   "outputs": [
    {
     "name": "stderr",
     "output_type": "stream",
     "text": [
      "/Users/dangchan/miniforge3/envs/colab/lib/python3.10/site-packages/IPython/core/interactiveshell.py:3466: FutureWarning: The `op` parameter is deprecated and will be removed in a future release. Please use the `predicate` parameter instead.\n",
      "  if await self.run_code(code, result, async_=asy):\n",
      "/var/folders/6r/ndnspf4n6n7_m8rb9bs7qdvr0000gp/T/ipykernel_25319/3431301713.py:16: FutureWarning: 'H' is deprecated and will be removed in a future version, please use 'h' instead.\n",
      "  complete_index = pd.date_range(start=hourly_df['index'].min(), end=hourly_df['index'].max(), freq='H')\n"
     ]
    }
   ],
   "source": [
    "# Now for each grid cell and each hour, check if the grid cell intersects with the flood geometry\n",
    "hourly_df = pd.read_pickle('data/hourly_flood.pkl')\n",
    "hourly_df = gpd.GeoDataFrame(hourly_df, geometry='geometry', crs='epsg:5174').reset_index()\n",
    "\n",
    "joined = gpd.sjoin(hourly_df, roads_selected, op='intersects')\n",
    "\n",
    "joined['flooded'] = 1\n",
    "\n",
    "# Pivot the table to get a grid cell for each column and an hour for each row\n",
    "pivoted = joined.pivot_table(index='index', columns='index_right', values='flooded', aggfunc='max')\n",
    "\n",
    "# Fill NaN values with 0\n",
    "pivoted = pivoted.fillna(0)\n",
    "\n",
    "# Create a date range that covers the whole time series\n",
    "complete_index = pd.date_range(start=hourly_df['index'].min(), end=hourly_df['index'].max(), freq='H')\n",
    "\n",
    "# Reindex the pivoted DataFrame with the complete time series\n",
    "pivoted = pivoted.reindex(complete_index)\n",
    "\n",
    "# Create a complete set of grid cell indices\n",
    "complete_columns = roads_selected.index.unique()\n",
    "\n",
    "# Reindex the pivoted DataFrame with the complete set of grid cell indices\n",
    "pivoted = pivoted.reindex(columns=complete_columns)\n",
    "\n",
    "# Fill NaN values with 0\n",
    "pivoted = pivoted.fillna(0)"
   ]
  },
  {
   "cell_type": "code",
   "execution_count": 18,
   "metadata": {},
   "outputs": [],
   "source": [
    "pivoted.to_pickle('data/pivoted_flood.pkl')"
   ]
  },
  {
   "cell_type": "code",
   "execution_count": 19,
   "metadata": {},
   "outputs": [
    {
     "name": "stderr",
     "output_type": "stream",
     "text": [
      "/var/folders/6r/ndnspf4n6n7_m8rb9bs7qdvr0000gp/T/ipykernel_25319/2615615163.py:29: DeprecationWarning: DataFrameGroupBy.apply operated on the grouping columns. This behavior is deprecated, and in a future version of pandas the grouping columns will be excluded from the operation. Either pass `include_groups=False` to exclude the groupings or explicitly select the grouping columns after groupby to silence this warning.\n",
      "  link_line = link.groupby('LINK_ID').apply(lambda x: LineString(x['geometry'].tolist())).reset_index()\n"
     ]
    }
   ],
   "source": [
    "# Likewise for the traffic data\n",
    "\n",
    "months = [6, 7, 8, 9]\n",
    "speed = pd.concat([\n",
    "    pd.read_csv(f'data/speed/{month}.csv') for month in months\n",
    "])\n",
    "\n",
    "# 01시 - 24시\n",
    "id_vars = ['일자', '링크아이디']\n",
    "hour_idx = [f'{i:02}시' for i in range(1, 25)]\n",
    "\n",
    "speed_long = speed.melt(id_vars=id_vars, value_vars=hour_idx, var_name='hour', value_name='speed')\n",
    "speed_long.columns = ['date', 'LINK_ID', 'hour', 'speed']\n",
    "speed_long = speed_long.pivot(index = ['date', 'hour'], columns='LINK_ID', values='speed')\n",
    "speed_long.reset_index(inplace=True)\n",
    "# date, hour to datetime\n",
    "speed_long['datetime'] = pd.to_datetime(speed_long['date'], format='%Y%m%d') + pd.to_timedelta(speed_long['hour'].str.replace('시', '').astype(int), unit='h')\n",
    "speed_long.drop(columns=['date', 'hour'], inplace=True)\n",
    "speed_long.set_index('datetime', inplace=True)\n",
    "speed_long.to_csv('data/traffic/speed_long.csv')\n",
    "speed_long.head()\n",
    "\n",
    "link = pd.read_excel('data/traffic/link.xlsx')\n",
    "link = gpd.GeoDataFrame(link, geometry=gpd.points_from_xy(link['GRS80TM_X'], link['GRS80TM_Y']), crs='epsg:5174')\n",
    "\n",
    "# Groupby LINK_ID and calculate the centroid of each link\n",
    "from shapely.geometry import LineString\n",
    "\n",
    "link_line = link.groupby('LINK_ID').apply(lambda x: LineString(x['geometry'].tolist())).reset_index()\n",
    "link_line.columns = ['LINK_ID', 'geometry']\n",
    "link_line = gpd.GeoDataFrame(link_line, crs='epsg:5174')\n",
    "\n",
    "# For each grid cell, get the intersected LINK_IDs\n",
    "\n",
    "grid = roads_selected.copy()\n",
    "\n",
    "grid['LINK_ID'] = grid['geometry'].apply(lambda x: link_line[link_line.intersects(x)]['LINK_ID'].tolist())"
   ]
  },
  {
   "cell_type": "code",
   "execution_count": 20,
   "metadata": {},
   "outputs": [],
   "source": [
    "# Unstack speed_long to get a long format DataFrame\n",
    "speed_long_unstacked = speed_long.unstack().reset_index()\n",
    "speed_long_unstacked.columns = ['LINK_ID', 'datetime', 'speed']\n",
    "\n",
    "# Explode 'LINK_ID' column in grid\n",
    "grid_exploded = grid.explode('LINK_ID').reset_index()\n",
    "\n",
    "# Merge this DataFrame with grid\n",
    "merged = pd.merge(speed_long_unstacked, grid_exploded[['LINK_ID', 'index']], on='LINK_ID')\n",
    "\n",
    "# Group by the grid cell index and timestamp, and calculate the average speed for each group\n",
    "grouped = merged.groupby(['index', 'datetime'])['speed'].mean().reset_index()\n",
    "\n",
    "# Pivot the result so that the grid cell index is the column, timestamp is the row, and the values are the average speed\n",
    "pivoted = grouped.pivot(index='datetime', columns='index', values='speed')\n",
    "\n",
    "# Save\n",
    "pivoted.to_pickle('data/pivoted_speed.pkl')"
   ]
  },
  {
   "cell_type": "code",
   "execution_count": 21,
   "metadata": {},
   "outputs": [],
   "source": [
    "# Load the pivoted flood data and the pivoted speed data\n",
    "\n",
    "pivoted_flood = pd.read_pickle('data/pivoted_flood.pkl')\n",
    "pivoted_speed = pd.read_pickle('data/pivoted_speed.pkl')\n",
    "\n",
    "# select pivoted_flood and pivoted_speed for the same time range with speed\n",
    "\n",
    "pivoted_flood = pivoted_flood.loc[pivoted_speed.index]\n",
    "\n",
    "pivoted_flood.to_pickle('data/pivoted_flood.pkl')"
   ]
  }
 ],
 "metadata": {
  "kernelspec": {
   "display_name": "colab",
   "language": "python",
   "name": "python3"
  },
  "language_info": {
   "codemirror_mode": {
    "name": "ipython",
    "version": 3
   },
   "file_extension": ".py",
   "mimetype": "text/x-python",
   "name": "python",
   "nbconvert_exporter": "python",
   "pygments_lexer": "ipython3",
   "version": "3.10.12"
  }
 },
 "nbformat": 4,
 "nbformat_minor": 2
}
