{
 "cells": [
  {
   "cell_type": "code",
   "execution_count": 1,
   "metadata": {},
   "outputs": [],
   "source": [
    "import geopandas as gpd\n",
    "import pandas as pd\n",
    "import matplotlib.pyplot as plt\n",
    "from tqdm.notebook import tqdm"
   ]
  },
  {
   "cell_type": "code",
   "execution_count": null,
   "metadata": {},
   "outputs": [],
   "source": [
    "# data load\n",
    "seoul = gpd.read_file('data/seoul_geo/seoul.shp').to_crs(epsg=5174)\n",
    "roads = gpd.read_file('data/seoul_road/Z_KAIS_TL_SPRD_MANAGE_11.shp', encoding='euc-kr', crs='epsg:5179')\n",
    "roads = roads.to_crs('epsg:5174')\n",
    "roads = roads[roads.ROA_CLS_SE.isin(['1','2','3'])]\n",
    "grid = pd.read_pickle('data/grid.pkl')\n",
    "\n",
    "# Select grid cells that intersect with the roads\n",
    "\n",
    "roads_union = roads.unary_union\n",
    "grid_roads = grid[grid.intersects(roads_union)]"
   ]
  },
  {
   "cell_type": "code",
   "execution_count": 68,
   "metadata": {},
   "outputs": [],
   "source": [
    "grid_roads.to_pickle('data/grid_roads.pkl')"
   ]
  },
  {
   "cell_type": "code",
   "execution_count": 3,
   "metadata": {},
   "outputs": [
    {
     "data": {
      "application/vnd.jupyter.widget-view+json": {
       "model_id": "c63532e8202a4f5a9cfa46b65023d6f9",
       "version_major": 2,
       "version_minor": 0
      },
      "text/plain": [
       "  0%|          | 0/8668 [00:00<?, ?it/s]"
      ]
     },
     "metadata": {},
     "output_type": "display_data"
    }
   ],
   "source": [
    "flood = gpd.read_file('data/flood/서울시_2022.shp').to_crs(epsg=5174)\n",
    "\n",
    "flood.F_SAT_YMD = flood.F_SAT_YMD.str.replace('-','')\n",
    "flood.F_SAT_YMD = flood.F_SAT_YMD.astype(int)\n",
    "flood.F_END_YMD = flood.F_END_YMD.str.replace('-','')\n",
    "flood.F_END_YMD = flood.F_END_YMD.astype(int)\n",
    "\n",
    "# to datetime\n",
    "flood['START'] = pd.to_datetime(flood['F_SAT_YMD'], format='%Y%m%d') + pd.to_timedelta(flood.F_SAT_TM.astype(int), unit='h')\n",
    "flood['END'] = pd.to_datetime(flood['F_END_YMD'], format='%Y%m%d') + pd.to_timedelta(flood.F_END_TM.astype(int), unit='h')\n",
    "\n",
    "flood = flood[['START', 'END', 'geometry']]\n",
    "\n",
    "start_date = pd.to_datetime('2022-06-01')\n",
    "end_date = pd.to_datetime('2023-01-01')\n",
    "time_index = pd.date_range(start_date, end_date, freq='h')\n",
    "\n",
    "hourly_df = pd.DataFrame(index=time_index)\n",
    "hourly_df['geometry'] = None\n",
    "\n",
    "for _, row in tqdm(flood.iterrows(), total=flood.shape[0]):\n",
    "    start_time = row['START']\n",
    "    end_time = row['END']\n",
    "    geometry = row['geometry']\n",
    "\n",
    "    # Create a mask for the time index within the start and end times\n",
    "    mask = (hourly_df.index >= start_time) & (hourly_df.index <= end_time)\n",
    "\n",
    "    # Update the 'geometry' column using the mask\n",
    "    hourly_df.loc[mask, 'geometry'] = hourly_df.loc[mask, 'geometry'].apply(lambda x: x.union(geometry) if x is not None else geometry)"
   ]
  },
  {
   "cell_type": "code",
   "execution_count": null,
   "metadata": {},
   "outputs": [
    {
     "data": {
      "text/html": [
       "<div>\n",
       "<style scoped>\n",
       "    .dataframe tbody tr th:only-of-type {\n",
       "        vertical-align: middle;\n",
       "    }\n",
       "\n",
       "    .dataframe tbody tr th {\n",
       "        vertical-align: top;\n",
       "    }\n",
       "\n",
       "    .dataframe thead th {\n",
       "        text-align: right;\n",
       "    }\n",
       "</style>\n",
       "<table border=\"1\" class=\"dataframe\">\n",
       "  <thead>\n",
       "    <tr style=\"text-align: right;\">\n",
       "      <th></th>\n",
       "      <th>START</th>\n",
       "      <th>END</th>\n",
       "      <th>geometry</th>\n",
       "    </tr>\n",
       "  </thead>\n",
       "  <tbody>\n",
       "    <tr>\n",
       "      <th>0</th>\n",
       "      <td>2022-08-08 18:00:00</td>\n",
       "      <td>2022-08-08 23:00:00</td>\n",
       "      <td>POLYGON ((200449.162 463357.569, 200448.918 46...</td>\n",
       "    </tr>\n",
       "    <tr>\n",
       "      <th>1</th>\n",
       "      <td>2022-08-08 18:00:00</td>\n",
       "      <td>2022-08-08 23:00:00</td>\n",
       "      <td>POLYGON ((200615.226 463266.483, 200599.392 46...</td>\n",
       "    </tr>\n",
       "    <tr>\n",
       "      <th>2</th>\n",
       "      <td>2022-08-08 18:00:00</td>\n",
       "      <td>2022-08-08 23:00:00</td>\n",
       "      <td>POLYGON ((200409.422 462958.018, 200500.022 46...</td>\n",
       "    </tr>\n",
       "    <tr>\n",
       "      <th>3</th>\n",
       "      <td>2022-08-08 20:00:00</td>\n",
       "      <td>2022-08-11 00:00:00</td>\n",
       "      <td>POLYGON ((191953.847 446216.637, 191954.856 44...</td>\n",
       "    </tr>\n",
       "    <tr>\n",
       "      <th>4</th>\n",
       "      <td>2022-08-08 18:00:00</td>\n",
       "      <td>2022-08-08 23:00:00</td>\n",
       "      <td>POLYGON ((202858.165 457933.427, 202863.633 45...</td>\n",
       "    </tr>\n",
       "    <tr>\n",
       "      <th>...</th>\n",
       "      <td>...</td>\n",
       "      <td>...</td>\n",
       "      <td>...</td>\n",
       "    </tr>\n",
       "    <tr>\n",
       "      <th>8663</th>\n",
       "      <td>2022-08-08 21:00:00</td>\n",
       "      <td>2022-08-09 05:00:00</td>\n",
       "      <td>POLYGON ((197093.635 450267.283, 197100.651 45...</td>\n",
       "    </tr>\n",
       "    <tr>\n",
       "      <th>8664</th>\n",
       "      <td>2022-08-08 21:00:00</td>\n",
       "      <td>2022-08-09 05:00:00</td>\n",
       "      <td>POLYGON ((200428.979 447976.959, 200427.063 44...</td>\n",
       "    </tr>\n",
       "    <tr>\n",
       "      <th>8665</th>\n",
       "      <td>2022-08-08 21:00:00</td>\n",
       "      <td>2022-08-09 05:00:00</td>\n",
       "      <td>POLYGON ((195925.244 448185.792, 195927.687 44...</td>\n",
       "    </tr>\n",
       "    <tr>\n",
       "      <th>8666</th>\n",
       "      <td>2022-08-08 19:00:00</td>\n",
       "      <td>2022-08-10 12:00:00</td>\n",
       "      <td>POLYGON ((201910.741 454875.075, 201912.201 45...</td>\n",
       "    </tr>\n",
       "    <tr>\n",
       "      <th>8667</th>\n",
       "      <td>2022-08-09 15:00:00</td>\n",
       "      <td>2022-08-09 18:00:00</td>\n",
       "      <td>POLYGON ((192012.652 453080.288, 192007.531 45...</td>\n",
       "    </tr>\n",
       "  </tbody>\n",
       "</table>\n",
       "<p>8668 rows × 3 columns</p>\n",
       "</div>"
      ],
      "text/plain": [
       "                   START                 END  \\\n",
       "0    2022-08-08 18:00:00 2022-08-08 23:00:00   \n",
       "1    2022-08-08 18:00:00 2022-08-08 23:00:00   \n",
       "2    2022-08-08 18:00:00 2022-08-08 23:00:00   \n",
       "3    2022-08-08 20:00:00 2022-08-11 00:00:00   \n",
       "4    2022-08-08 18:00:00 2022-08-08 23:00:00   \n",
       "...                  ...                 ...   \n",
       "8663 2022-08-08 21:00:00 2022-08-09 05:00:00   \n",
       "8664 2022-08-08 21:00:00 2022-08-09 05:00:00   \n",
       "8665 2022-08-08 21:00:00 2022-08-09 05:00:00   \n",
       "8666 2022-08-08 19:00:00 2022-08-10 12:00:00   \n",
       "8667 2022-08-09 15:00:00 2022-08-09 18:00:00   \n",
       "\n",
       "                                               geometry  \n",
       "0     POLYGON ((200449.162 463357.569, 200448.918 46...  \n",
       "1     POLYGON ((200615.226 463266.483, 200599.392 46...  \n",
       "2     POLYGON ((200409.422 462958.018, 200500.022 46...  \n",
       "3     POLYGON ((191953.847 446216.637, 191954.856 44...  \n",
       "4     POLYGON ((202858.165 457933.427, 202863.633 45...  \n",
       "...                                                 ...  \n",
       "8663  POLYGON ((197093.635 450267.283, 197100.651 45...  \n",
       "8664  POLYGON ((200428.979 447976.959, 200427.063 44...  \n",
       "8665  POLYGON ((195925.244 448185.792, 195927.687 44...  \n",
       "8666  POLYGON ((201910.741 454875.075, 201912.201 45...  \n",
       "8667  POLYGON ((192012.652 453080.288, 192007.531 45...  \n",
       "\n",
       "[8668 rows x 3 columns]"
      ]
     },
     "execution_count": 98,
     "metadata": {},
     "output_type": "execute_result"
    }
   ],
   "source": [
    "hourly_df.to_csv('data/hourly_flood.csv')"
   ]
  },
  {
   "cell_type": "code",
   "execution_count": 57,
   "metadata": {},
   "outputs": [
    {
     "name": "stderr",
     "output_type": "stream",
     "text": [
      "/Users/dangchan/miniforge3/envs/colab/lib/python3.10/site-packages/IPython/core/interactiveshell.py:3466: FutureWarning: The `op` parameter is deprecated and will be removed in a future release. Please use the `predicate` parameter instead.\n",
      "  if await self.run_code(code, result, async_=asy):\n"
     ]
    },
    {
     "data": {
      "text/plain": [
       "Index(['geometry', 'ADM_SECT_C', 'SGG_NM', 'SGG_OID', 'COL_ADM_SE', 'flood',\n",
       "       'office_cat_0', 'office_cat_1', 'office_cat_2', 'office_cat_3',\n",
       "       'office_cat_4', 'office_cat_5', 'office_cat_6', 'office_cat_7',\n",
       "       'office_cat_8', 'office_cat_9', 'elevation', 'rainpump', 'trees',\n",
       "       'index_right', 'START', 'END'],\n",
       "      dtype='object')"
      ]
     },
     "execution_count": 57,
     "metadata": {},
     "output_type": "execute_result"
    }
   ],
   "source": [
    "# For each grid cell and each time period, check if the flood event intersects with the grid cell\n",
    "\n",
    "start_date = flood['START'].min()\n",
    "end_date = flood['START'].max()\n",
    "\n",
    "date_range = pd.date_range(start_date, end_date, freq='h')\n",
    "\n",
    "result = \n",
    "\n",
    "joined = gpd.sjoin(grid_roads, flood, how='left', op='intersects')\n",
    "joined = joined"
   ]
  }
 ],
 "metadata": {
  "kernelspec": {
   "display_name": "colab",
   "language": "python",
   "name": "python3"
  },
  "language_info": {
   "codemirror_mode": {
    "name": "ipython",
    "version": 3
   },
   "file_extension": ".py",
   "mimetype": "text/x-python",
   "name": "python",
   "nbconvert_exporter": "python",
   "pygments_lexer": "ipython3",
   "version": "3.10.12"
  }
 },
 "nbformat": 4,
 "nbformat_minor": 2
}
